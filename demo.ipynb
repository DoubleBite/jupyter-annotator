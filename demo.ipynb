{
 "cells": [
  {
   "cell_type": "markdown",
   "metadata": {},
   "source": [
    "## 1. Normal usage"
   ]
  },
  {
   "cell_type": "code",
   "execution_count": 1,
   "metadata": {},
   "outputs": [
    {
     "data": {
      "application/vnd.jupyter.widget-view+json": {
       "model_id": "afc48ca2fa3548b09431e53e5980e5b1",
       "version_major": 2,
       "version_minor": 0
      },
      "text/plain": [
       "HBox(children=(VBox(children=(Output(),), layout=Layout(width='43%')), VBox(children=(Textarea(value='', descr…"
      ]
     },
     "metadata": {},
     "output_type": "display_data"
    }
   ],
   "source": [
    "from jupyter_annotator import Annotator\n",
    "\n",
    "problems = [{\n",
    "    \"problem\": \"Where would I not want a fox? (a problem from coommonsenseQA)\",\n",
    "    \"options\": {\n",
    "        \"a\": \"hen house\", \"b\": \"england\", \"c\": \"mountains\", \"d\": \"english hunt\", \"e\": \"california\"\n",
    "    },\n",
    "    \"answer\": \"a\"\n",
    "}]\n",
    "\n",
    "anno = Annotator(problems)\n",
    "anno.start()"
   ]
  },
  {
   "cell_type": "markdown",
   "metadata": {},
   "source": [
    "## 2. Custom fields"
   ]
  },
  {
   "cell_type": "code",
   "execution_count": 2,
   "metadata": {},
   "outputs": [
    {
     "data": {
      "application/vnd.jupyter.widget-view+json": {
       "model_id": "cef3134818334857a8caf1dbb71e8d1a",
       "version_major": 2,
       "version_minor": 0
      },
      "text/plain": [
       "HBox(children=(VBox(children=(Output(),), layout=Layout(width='43%')), VBox(children=(Textarea(value='', descr…"
      ]
     },
     "metadata": {},
     "output_type": "display_data"
    }
   ],
   "source": [
    "problems = [{\n",
    "    \"problem\": \"Where would I not want a fox? (a problem from coommonsenseQA)\",\n",
    "    \"options\": {\n",
    "        \"a\": \"hen house\", \"b\": \"england\", \"c\": \"mountains\", \"d\": \"english hunt\", \"e\": \"california\"\n",
    "    },\n",
    "    \"answer\": \"a\"\n",
    "}]\n",
    "\n",
    "custom_fields = [(\"rationale\", str, 100)] # (field_name, type, max_length)\n",
    "anno = Annotator(problems, custom_fields=custom_fields)\n",
    "anno.start()"
   ]
  },
  {
   "cell_type": "markdown",
   "metadata": {},
   "source": [
    "## 3. Field filtering"
   ]
  },
  {
   "cell_type": "code",
   "execution_count": 3,
   "metadata": {},
   "outputs": [
    {
     "data": {
      "application/vnd.jupyter.widget-view+json": {
       "model_id": "4499b156cd99451e9d6002a526a37f38",
       "version_major": 2,
       "version_minor": 0
      },
      "text/plain": [
       "HBox(children=(VBox(children=(Output(),), layout=Layout(width='43%')), VBox(children=(Textarea(value='', descr…"
      ]
     },
     "metadata": {},
     "output_type": "display_data"
    }
   ],
   "source": [
    "problems = [{\n",
    "    \"id\": 1,\n",
    "    \"problem\": \"Where would I not want a fox? (a problem from coommonsenseQA)\",\n",
    "    \"options\": {\n",
    "        \"a\": \"hen house\", \"b\": \"england\", \"c\": \"mountains\", \"d\": \"english hunt\", \"e\": \"california\"\n",
    "    },\n",
    "    \"answer\": \"a\"\n",
    "}]\n",
    "\n",
    "filtered_fields = ['id'] \n",
    "anno = Annotator(problems, filtered_fields=filtered_fields)\n",
    "anno.start()"
   ]
  }
 ],
 "metadata": {
  "kernelspec": {
   "display_name": "Python 3",
   "language": "python",
   "name": "python3"
  },
  "language_info": {
   "codemirror_mode": {
    "name": "ipython",
    "version": 3
   },
   "file_extension": ".py",
   "mimetype": "text/x-python",
   "name": "python",
   "nbconvert_exporter": "python",
   "pygments_lexer": "ipython3",
   "version": "3.6.8"
  }
 },
 "nbformat": 4,
 "nbformat_minor": 4
}
