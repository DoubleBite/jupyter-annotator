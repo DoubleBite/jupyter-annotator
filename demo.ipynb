{
 "cells": [
  {
   "cell_type": "code",
   "execution_count": 1,
   "metadata": {},
   "outputs": [
    {
     "data": {
      "application/vnd.jupyter.widget-view+json": {
       "model_id": "91f77b6d893040f89c8df81ea00d989c",
       "version_major": 2,
       "version_minor": 0
      },
      "text/plain": [
       "HBox(children=(VBox(children=(Output(),), layout=Layout(width='43%')), VBox(children=(Textarea(value='', descr…"
      ]
     },
     "metadata": {},
     "output_type": "display_data"
    }
   ],
   "source": [
    "from jupyter_annotator import Annotator\n",
    "\n",
    "problems = [{\n",
    "    \"problem\": \"Where would I not want a fox? (a problem from coommonsenseQA)\",\n",
    "    \"options\": {\n",
    "        \"a\": \"hen house\", \"b\": \"england\", \"c\": \"mountains\", \"d\": \"english hunt\", \"e\": \"california\"\n",
    "    },\n",
    "    \"answer\": \"a\"\n",
    "}]\n",
    "\n",
    "anno = Annotator(problems)\n",
    "anno.start()"
   ]
  },
  {
   "cell_type": "code",
   "execution_count": 7,
   "metadata": {},
   "outputs": [
    {
     "data": {
      "application/vnd.jupyter.widget-view+json": {
       "model_id": "edcd2feb7aa747fb921d8f18af7ed619",
       "version_major": 2,
       "version_minor": 0
      },
      "text/plain": [
       "HBox(children=(VBox(children=(Output(),), layout=Layout(width='43%')), VBox(children=(Textarea(value='', descr…"
      ]
     },
     "metadata": {},
     "output_type": "display_data"
    }
   ],
   "source": [
    "problems = [{\n",
    "    \"problem\": \"Where would I not want a fox? (a problem from coommonsenseQA)\",\n",
    "    \"options\": {\n",
    "        \"a\": \"hen house\", \"b\": \"england\", \"c\": \"mountains\", \"d\": \"english hunt\", \"e\": \"california\"\n",
    "    },\n",
    "    \"answer\": \"a\"\n",
    "}]\n",
    "\n",
    "custom_fields = [(\"rationale\", str, 100)] # (field_name, type, max_length)\n",
    "anno = Annotator(problems, custom_fields=custom_fields)\n",
    "anno.start()"
   ]
  },
  {
   "cell_type": "code",
   "execution_count": null,
   "metadata": {},
   "outputs": [],
   "source": []
  }
 ],
 "metadata": {
  "kernelspec": {
   "display_name": "Python 3",
   "language": "python",
   "name": "python3"
  },
  "language_info": {
   "codemirror_mode": {
    "name": "ipython",
    "version": 3
   },
   "file_extension": ".py",
   "mimetype": "text/x-python",
   "name": "python",
   "nbconvert_exporter": "python",
   "pygments_lexer": "ipython3",
   "version": "3.6.8"
  }
 },
 "nbformat": 4,
 "nbformat_minor": 4
}
