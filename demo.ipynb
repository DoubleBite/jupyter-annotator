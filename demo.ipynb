{
 "cells": [
  {
   "cell_type": "markdown",
   "metadata": {},
   "source": [
    "## 1. Normal usage"
   ]
  },
  {
   "cell_type": "code",
   "execution_count": 1,
   "metadata": {},
   "outputs": [
    {
     "data": {
      "application/vnd.jupyter.widget-view+json": {
       "model_id": "682cf3ba9b7a4c008102896d0aebfe64",
       "version_major": 2,
       "version_minor": 0
      },
      "text/plain": [
       "HBox(children=(VBox(children=(Output(),), layout=Layout(width='43%')), VBox(children=(Textarea(value='', descr…"
      ]
     },
     "metadata": {},
     "output_type": "display_data"
    }
   ],
   "source": [
    "from jupyter_annotator import Annotator\n",
    "\n",
    "problems = [{\n",
    "    \"id\": 2,\n",
    "    \"problem\": \"Where would I not want a fox? (a problem from coommonsenseQA)\",\n",
    "    \"options\": {\n",
    "        \"a\": \"hen house\", \"b\": \"england\", \"c\": \"mountains\", \"d\": \"english hunt\", \"e\": \"california\"\n",
    "    },\n",
    "    \"answer\": \"a\",\n",
    "    \"xxx\": \"yyyyyyyyyyy\"\n",
    "}]\n",
    "\n",
    "annotator = Annotator(problems)\n",
    "annotator.start()"
   ]
  },
  {
   "cell_type": "markdown",
   "metadata": {},
   "source": [
    "## 2. Custom fields + skip + filter\n",
    "+ Add custom field in the format (field_name, type, max_length)\n",
    "+ Skip fields: the fields which will not appear in the form but appear in the preview so that they won't be edited. \n",
    "+ Filter fields: the fields that won't appear either in the form or in the preview "
   ]
  },
  {
   "cell_type": "code",
   "execution_count": 2,
   "metadata": {},
   "outputs": [
    {
     "data": {
      "application/vnd.jupyter.widget-view+json": {
       "model_id": "f586c7e6bc87426e86a51c031ae6211c",
       "version_major": 2,
       "version_minor": 0
      },
      "text/plain": [
       "HBox(children=(VBox(children=(Output(),), layout=Layout(width='43%')), VBox(children=(Textarea(value='', descr…"
      ]
     },
     "metadata": {},
     "output_type": "display_data"
    }
   ],
   "source": [
    "problems = [{\n",
    "    \"id\": 2,\n",
    "    \"problem\": \"Where would I not want a fox? (a problem from coommonsenseQA)\",\n",
    "    \"options\": {\n",
    "        \"a\": \"hen house\", \"b\": \"england\", \"c\": \"mountains\", \"d\": \"english hunt\", \"e\": \"california\"\n",
    "    },\n",
    "    \"answer\": \"a\",\n",
    "    \"filtered\": \"xxxxxxxxxxxx\"\n",
    "}]\n",
    "\n",
    "custom_fields = [(\"rationale\", str, 100)] \n",
    "skip_fields = ['id'] \n",
    "filter_fields = [\"xxx\"]\n",
    "\n",
    "annotator = Annotator(problems, custom_fields=custom_fields, skip_fields=skip_fields, filter_fields=filter_fields)\n",
    "annotator.start()"
   ]
  },
  {
   "cell_type": "markdown",
   "metadata": {},
   "source": [
    "## 3. Save annotations"
   ]
  },
  {
   "cell_type": "code",
   "execution_count": 3,
   "metadata": {},
   "outputs": [
    {
     "data": {
      "text/plain": [
       "[OrderedDict([('id', 2),\n",
       "              ('problem',\n",
       "               'Where would I not want a fox? (a problem from coommonsenseQA)'),\n",
       "              ('options',\n",
       "               {'a': 'hen house',\n",
       "                'b': 'england',\n",
       "                'c': 'mountains',\n",
       "                'd': 'english hunt',\n",
       "                'e': 'california'}),\n",
       "              ('answer', 'a'),\n",
       "              ('xxx', 'yyyyyyyyyyy'),\n",
       "              ('rationale', '')])]"
      ]
     },
     "execution_count": 3,
     "metadata": {},
     "output_type": "execute_result"
    }
   ],
   "source": [
    "annotator.problems"
   ]
  },
  {
   "cell_type": "code",
   "execution_count": null,
   "metadata": {},
   "outputs": [],
   "source": []
  }
 ],
 "metadata": {
  "kernelspec": {
   "display_name": "Python 3",
   "language": "python",
   "name": "python3"
  },
  "language_info": {
   "codemirror_mode": {
    "name": "ipython",
    "version": 3
   },
   "file_extension": ".py",
   "mimetype": "text/x-python",
   "name": "python",
   "nbconvert_exporter": "python",
   "pygments_lexer": "ipython3",
   "version": "3.6.8"
  }
 },
 "nbformat": 4,
 "nbformat_minor": 4
}
