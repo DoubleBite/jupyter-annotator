{
 "cells": [
  {
   "cell_type": "markdown",
   "metadata": {},
   "source": [
    "1. topic\n",
    "2. custom field\n",
    "others"
   ]
  },
  {
   "cell_type": "markdown",
   "metadata": {},
   "source": [
    "## References\n",
    "+ https://ipywidgets.readthedocs.io/en/latest/examples/Widget%20Styling.html"
   ]
  },
  {
   "cell_type": "code",
   "execution_count": 1,
   "metadata": {},
   "outputs": [],
   "source": [
    "from jupyter_annotator.annotator import Annotator"
   ]
  },
  {
   "cell_type": "code",
   "execution_count": 2,
   "metadata": {},
   "outputs": [],
   "source": [
    "problems = [{\n",
    "    \"id\": 1049,\n",
    "    \"problem\": \"a cube of edge 7 cm is cut into cubes each of edge 1 cm . the ratio of the total surface area of one of the small cubes to that of the large cube is equal to :\",\n",
    "    \"options\": {\n",
    "    },\n",
    "    \"answer\": \"b\",\n",
    "    \"equations\": [\n",
    "        \"4 / 100 = x\"\n",
    "    ],\n",
    "    \"concepts\": [\n",
    "        \"cube\"\n",
    "    ],\n",
    "    \"types\": [\n",
    "        \"equation1\"\n",
    "    ]\n",
    "},{\n",
    "        \"id\": 6,\n",
    "        \"problem\": \"a full stationary oil tank that is a right circular cylinder has a radius of 100 feet and a height of 25 feet . oil is pumped from the stationary tank to an oil truck that has a tank that is a right circular cylinder until the truck ' s tank is completely filled . if the truck ' s tank has a radius of 6 feet and a height of 10 feet , how far ( in feet ) did the oil level drop in the stationary tank ?\",\n",
    "        \"options\": {\n",
    "            \"a\": \"0.036\",\n",
    "            \"b\": \"0.36\",\n",
    "            \"c\": \"0.6\",\n",
    "            \"d\": \"6\",\n",
    "            \"e\": \"3.6\"\n",
    "        },\n",
    "        \"answer\": \"a\",\n",
    "        \"equations\": [\n",
    "            \"3.14 * 100* 100 = x\",\n",
    "            \"3.14 * 6* 6 * 10 = y\",\n",
    "            \"y / x = z\"\n",
    "        ],\n",
    "        \"concepts\": [\n",
    "            \"cylinder\"\n",
    "        ]\n",
    "    }\n",
    "]\n"
   ]
  },
  {
   "cell_type": "code",
   "execution_count": 3,
   "metadata": {},
   "outputs": [
    {
     "data": {
      "application/vnd.jupyter.widget-view+json": {
       "model_id": "0c8991907cf44643ab5b5da2e3d5be41",
       "version_major": 2,
       "version_minor": 0
      },
      "text/plain": [
       "HBox(children=(VBox(children=(Output(),), layout=Layout(width='43%')), VBox(children=(Textarea(value='', descr…"
      ]
     },
     "metadata": {},
     "output_type": "display_data"
    }
   ],
   "source": [
    "filtered_fields = [\n",
    "    'id', 'problem'\n",
    "]\n",
    "\n",
    "custom_fields = [\n",
    "    (\"options2\", list, 85),\n",
    "    (\"options3\", list, 5)\n",
    "]\n",
    "\n",
    "anno = Annotator(problems)\n",
    "anno.start()"
   ]
  },
  {
   "cell_type": "code",
   "execution_count": 4,
   "metadata": {},
   "outputs": [
    {
     "data": {
      "text/plain": [
       "[{'id': 1049,\n",
       "  'problem': 'a cube of edge 7 cm is cut into cubes each of edge 1 cm . the ratio of the total surface area of one of the small cubes to that of the large cube is equal to :',\n",
       "  'options': {},\n",
       "  'answer': 'b',\n",
       "  'equations': ['4 / 100 = x'],\n",
       "  'concepts': ['cube'],\n",
       "  'types': ['equation1']},\n",
       " {'id': 6,\n",
       "  'problem': \"a full stationary oil tank that is a right circular cylinder has a radius of 100 feet and a height of 25 feet . oil is pumped from the stationary tank to an oil truck that has a tank that is a right circular cylinder until the truck ' s tank is completely filled . if the truck ' s tank has a radius of 6 feet and a height of 10 feet , how far ( in feet ) did the oil level drop in the stationary tank ?\",\n",
       "  'options': {'a': '0.036', 'b': '0.36', 'c': '0.6', 'd': '6', 'e': '3.6'},\n",
       "  'answer': 'a',\n",
       "  'equations': ['3.14 * 100* 100 = x', '3.14 * 6* 6 * 10 = y', 'y / x = z'],\n",
       "  'concepts': ['cylinder']}]"
      ]
     },
     "execution_count": 4,
     "metadata": {},
     "output_type": "execute_result"
    }
   ],
   "source": [
    "problems"
   ]
  },
  {
   "cell_type": "code",
   "execution_count": 5,
   "metadata": {},
   "outputs": [
    {
     "data": {
      "text/plain": [
       "'aaaaaaaaaaaaaaaaaaaaaaaaaaaaaaaaaaaaaaaaaaaaaaaaaaaaaaaaaaaaaaaaaaaaaaaaaaaaaaaaaaaaaaaaaaaaaaaaaaaa'"
      ]
     },
     "execution_count": 5,
     "metadata": {},
     "output_type": "execute_result"
    }
   ],
   "source": [
    "'a'*100"
   ]
  },
  {
   "cell_type": "code",
   "execution_count": 6,
   "metadata": {},
   "outputs": [],
   "source": [
    "filtered_fields = [\n",
    "    'id', \n",
    "]"
   ]
  },
  {
   "cell_type": "code",
   "execution_count": 7,
   "metadata": {},
   "outputs": [
    {
     "data": {
      "text/plain": [
       "['id']"
      ]
     },
     "execution_count": 7,
     "metadata": {},
     "output_type": "execute_result"
    }
   ],
   "source": [
    "filtered_fields"
   ]
  },
  {
   "cell_type": "code",
   "execution_count": null,
   "metadata": {},
   "outputs": [],
   "source": []
  }
 ],
 "metadata": {
  "kernelspec": {
   "display_name": "Python 3",
   "language": "python",
   "name": "python3"
  },
  "language_info": {
   "codemirror_mode": {
    "name": "ipython",
    "version": 3
   },
   "file_extension": ".py",
   "mimetype": "text/x-python",
   "name": "python",
   "nbconvert_exporter": "python",
   "pygments_lexer": "ipython3",
   "version": "3.6.8"
  }
 },
 "nbformat": 4,
 "nbformat_minor": 4
}
